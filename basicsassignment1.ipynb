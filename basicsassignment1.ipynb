{
 "cells": [
  {
   "cell_type": "code",
   "execution_count": 2,
   "id": "770746d8-b058-46a1-8968-81a0ba54b0c1",
   "metadata": {},
   "outputs": [],
   "source": [
    "#Declare two variables, `x` and `y`, and assign them integer values. Swap the\n",
    "#values of these variables without using any temporary variable.\n"
   ]
  },
  {
   "cell_type": "code",
   "execution_count": 11,
   "id": "a4bcb9cf-846f-4f33-90a8-1600ad2c7ae4",
   "metadata": {},
   "outputs": [
    {
     "name": "stdout",
     "output_type": "stream",
     "text": [
      "the value of x is 3 the value of y is  1\n"
     ]
    }
   ],
   "source": [
    "x,y=1,3\n",
    "x,y=y,x\n",
    "print(\"the value of x is\",x , \"the value of y is \",y)"
   ]
  },
  {
   "cell_type": "code",
   "execution_count": 4,
   "id": "35e55015-3ba3-4f16-88dc-b4e5f42661e1",
   "metadata": {},
   "outputs": [
    {
     "data": {
      "text/plain": [
       "3"
      ]
     },
     "execution_count": 4,
     "metadata": {},
     "output_type": "execute_result"
    }
   ],
   "source": [
    "x"
   ]
  },
  {
   "cell_type": "code",
   "execution_count": 5,
   "id": "243450f7-c541-4c2b-8fdc-c5ddbcd21990",
   "metadata": {},
   "outputs": [
    {
     "data": {
      "text/plain": [
       "1"
      ]
     },
     "execution_count": 5,
     "metadata": {},
     "output_type": "execute_result"
    }
   ],
   "source": [
    "y"
   ]
  },
  {
   "cell_type": "code",
   "execution_count": 6,
   "id": "80dc0817-7a86-445f-9a60-81fea4e5044e",
   "metadata": {},
   "outputs": [],
   "source": [
    "#2. Create a program that calculates the area of a rectangle. Take the length and\n",
    "#width as inputs from the user and store them in variables. Calculate and\n",
    "#display the area."
   ]
  },
  {
   "cell_type": "code",
   "execution_count": 9,
   "id": "0aba1a40-e7d8-4f9f-9ac7-406ac23b6342",
   "metadata": {},
   "outputs": [
    {
     "name": "stdin",
     "output_type": "stream",
     "text": [
      "Enter the length of Rectangle 5\n",
      "enter the width of Rectangle 4\n"
     ]
    },
    {
     "name": "stdout",
     "output_type": "stream",
     "text": [
      "the area of rectangle is 20\n"
     ]
    }
   ],
   "source": [
    "l=int(input(\"Enter the length of Rectangle\"))\n",
    "w=int(input(\"enter the width of Rectangle\"))\n",
    "area=l*w\n",
    "print(\"the area of rectangle is\",area)"
   ]
  },
  {
   "cell_type": "code",
   "execution_count": 10,
   "id": "c801fc27-1d01-4e72-af25-2245f8e99571",
   "metadata": {},
   "outputs": [],
   "source": [
    "#3. Write a Python program that converts temperatures from Celsius to\n",
    "#Fahrenheit. Take the temperature in Celsius as input, store it in a variable,\n",
    "#convert it to Fahrenheit, and display the result."
   ]
  },
  {
   "cell_type": "code",
   "execution_count": 17,
   "id": "4718fc6c-6615-454c-9b19-dd0124bdc40d",
   "metadata": {},
   "outputs": [
    {
     "name": "stdin",
     "output_type": "stream",
     "text": [
      "enter the temperature in celsius 4\n"
     ]
    },
    {
     "name": "stdout",
     "output_type": "stream",
     "text": [
      "the temperature in farenheit is 39.2\n"
     ]
    }
   ],
   "source": [
    "c=int(input(\"enter the temperature in celsius\"))\n",
    "f=(c*(9/5) + 32)\n",
    "print(\"the temperature in farenheit is\",f)"
   ]
  },
  {
   "cell_type": "code",
   "execution_count": 18,
   "id": "b9e59aca-66eb-415f-9e0e-344a04f7ba6e",
   "metadata": {},
   "outputs": [],
   "source": [
    "#1. Write a Python program that takes a string as input and prints the length of\n",
    "#the string."
   ]
  },
  {
   "cell_type": "code",
   "execution_count": 20,
   "id": "aba173c4-f4c5-4da3-a508-c2074b32b5f7",
   "metadata": {},
   "outputs": [
    {
     "name": "stdin",
     "output_type": "stream",
     "text": [
      "enter any string shruti\n"
     ]
    },
    {
     "name": "stdout",
     "output_type": "stream",
     "text": [
      "the length of string is  6\n"
     ]
    }
   ],
   "source": [
    "a=input(\"enter any string\")\n",
    "b=len(a)\n",
    "print(\"the length of string is \",b)"
   ]
  },
  {
   "cell_type": "code",
   "execution_count": 1,
   "id": "25778c9a-e142-4faf-90b0-9dafe3aac076",
   "metadata": {},
   "outputs": [],
   "source": [
    "#2. Create a program that takes a sentence from the user and counts the number\n",
    "#of vowels (a, e, i, o, u) in the string.\n"
   ]
  },
  {
   "cell_type": "code",
   "execution_count": 1,
   "id": "9673f765-f176-4081-8b1a-d04a9fc92257",
   "metadata": {},
   "outputs": [
    {
     "name": "stdin",
     "output_type": "stream",
     "text": [
      "Enter any sentence harsh\n"
     ]
    },
    {
     "name": "stdout",
     "output_type": "stream",
     "text": [
      "1\n"
     ]
    }
   ],
   "source": [
    "a=input (\"Enter any sentence\").lower()\n",
    "print(a.count(\"a\")+a.count(\"e\")+a.count(\"i\")+a.count(\"o\")+a.count(\"u\"))"
   ]
  },
  {
   "cell_type": "code",
   "execution_count": 2,
   "id": "ca125cbc-abfd-4410-8fc9-d18584d6c7a1",
   "metadata": {},
   "outputs": [],
   "source": [
    "#3. Given a string, reverse the order of characters using string slicing and print\n",
    "#the reversed string."
   ]
  },
  {
   "cell_type": "code",
   "execution_count": 4,
   "id": "7cfc1a9e-034d-400f-b3b6-726ce98804aa",
   "metadata": {},
   "outputs": [
    {
     "name": "stdin",
     "output_type": "stream",
     "text": [
      "enter any string shruti\n"
     ]
    },
    {
     "name": "stdout",
     "output_type": "stream",
     "text": [
      "the reverse string is iturhs\n"
     ]
    }
   ],
   "source": [
    "s=input(\"enter any string\")\n",
    "b=s[::-1]\n",
    "print(\"the reverse string is\", b)"
   ]
  },
  {
   "cell_type": "code",
   "execution_count": 5,
   "id": "0303fa76-a8ce-4a5b-89e7-fef5923eee25",
   "metadata": {},
   "outputs": [],
   "source": [
    "#4. Write a program that takes a string as input and checks if it is a palindrome\n",
    "#(reads the same forwards and backwards)."
   ]
  },
  {
   "cell_type": "code",
   "execution_count": 2,
   "id": "132bee20-0ef7-4cf9-8636-dbf021bbeed2",
   "metadata": {},
   "outputs": [
    {
     "name": "stdin",
     "output_type": "stream",
     "text": [
      "enetr any sentence mom\n"
     ]
    },
    {
     "name": "stdout",
     "output_type": "stream",
     "text": [
      "it is palindrome mom\n"
     ]
    }
   ],
   "source": [
    "a=input(\"enetr any sentence\")\n",
    "if a==a[::-1]:\n",
    "    print(\"it is palindrome\",a)\n",
    "else:\n",
    "    print(\"it is not palindrome\",a)"
   ]
  },
  {
   "cell_type": "code",
   "execution_count": 6,
   "id": "76cb2a88-83d7-4ad1-b1cf-d1831df399bd",
   "metadata": {},
   "outputs": [],
   "source": [
    "#Create a program that takes a string as input and removes all the spaces from\n",
    "#it. Print the modified string without spaces."
   ]
  },
  {
   "cell_type": "code",
   "execution_count": 10,
   "id": "aa327d77-1fab-4764-9416-611a16a8195b",
   "metadata": {},
   "outputs": [
    {
     "name": "stdin",
     "output_type": "stream",
     "text": [
      "enter any string     my name\n"
     ]
    },
    {
     "name": "stdout",
     "output_type": "stream",
     "text": [
      "string without space is  my name\n"
     ]
    }
   ],
   "source": [
    "x=input (\"enter any string\")\n",
    "z=x.strip()\n",
    "print(\"string without space is \",z)"
   ]
  },
  {
   "cell_type": "code",
   "execution_count": null,
   "id": "0bcb242a-2b42-47dc-8c47-63fcb76ff506",
   "metadata": {},
   "outputs": [],
   "source": []
  }
 ],
 "metadata": {
  "kernelspec": {
   "display_name": "Python 3 (ipykernel)",
   "language": "python",
   "name": "python3"
  },
  "language_info": {
   "codemirror_mode": {
    "name": "ipython",
    "version": 3
   },
   "file_extension": ".py",
   "mimetype": "text/x-python",
   "name": "python",
   "nbconvert_exporter": "python",
   "pygments_lexer": "ipython3",
   "version": "3.10.8"
  }
 },
 "nbformat": 4,
 "nbformat_minor": 5
}
